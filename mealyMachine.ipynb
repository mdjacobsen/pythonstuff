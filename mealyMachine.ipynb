{
 "cells": [
  {
   "cell_type": "code",
   "execution_count": 103,
   "metadata": {},
   "outputs": [],
   "source": [
    "class Sm:\n",
    "    \n",
    "    def __init__ (self, initState = 0):\n",
    "        self.state = initState\n",
    "        self.activeStates = [1,2,3]\n",
    "        self.stateLog = []\n",
    "        \n",
    "    def setState(self, inputState):\n",
    "        self.state = inputState\n",
    "        self.stateLog.append(inputState)\n",
    "        \n",
    "    def getState(self):\n",
    "        return self.state\n",
    "    \n",
    "    def evaluator(self):\n",
    "        while self.state in self.activeStates:\n",
    "            return(\"active\")\n",
    "        return(\"idle\")\n",
    "    \n",
    "    def controller(self):\n",
    "        if self.evaluator() == \"active\":\n",
    "            print(\"active, please wait\")\n",
    "        else:\n",
    "            print(\"changing state\")\n",
    "            self.setState(3)\n",
    "            print(\"new state is \", self.evaluator())\n",
    "            \n",
    "    def getLog(self):\n",
    "        print(self.stateLog)\n",
    "        \n"
   ]
  },
  {
   "cell_type": "code",
   "execution_count": 104,
   "metadata": {},
   "outputs": [],
   "source": [
    "newSM = Sm()"
   ]
  },
  {
   "cell_type": "code",
   "execution_count": 105,
   "metadata": {},
   "outputs": [
    {
     "name": "stdout",
     "output_type": "stream",
     "text": [
      "0\n"
     ]
    }
   ],
   "source": [
    "print(newSM.state)"
   ]
  },
  {
   "cell_type": "code",
   "execution_count": 125,
   "metadata": {},
   "outputs": [],
   "source": [
    "newSM.setState(8)"
   ]
  },
  {
   "cell_type": "code",
   "execution_count": 126,
   "metadata": {},
   "outputs": [
    {
     "name": "stdout",
     "output_type": "stream",
     "text": [
      "8\n"
     ]
    }
   ],
   "source": [
    "print(newSM.getState())"
   ]
  },
  {
   "cell_type": "code",
   "execution_count": 127,
   "metadata": {},
   "outputs": [
    {
     "name": "stdout",
     "output_type": "stream",
     "text": [
      "idle\n"
     ]
    }
   ],
   "source": [
    "print(newSM.evaluator())"
   ]
  },
  {
   "cell_type": "code",
   "execution_count": 128,
   "metadata": {},
   "outputs": [
    {
     "name": "stdout",
     "output_type": "stream",
     "text": [
      "changing state\n",
      "new state is  active\n"
     ]
    }
   ],
   "source": [
    "newSM.controller()"
   ]
  },
  {
   "cell_type": "code",
   "execution_count": 129,
   "metadata": {},
   "outputs": [
    {
     "name": "stdout",
     "output_type": "stream",
     "text": [
      "[5, 3, 7, 3, 2, 1, 8, 3]\n"
     ]
    }
   ],
   "source": [
    "newSM.getLog()"
   ]
  },
  {
   "cell_type": "code",
   "execution_count": null,
   "metadata": {},
   "outputs": [],
   "source": []
  }
 ],
 "metadata": {
  "kernelspec": {
   "display_name": "Python 3",
   "language": "python",
   "name": "python3"
  },
  "language_info": {
   "codemirror_mode": {
    "name": "ipython",
    "version": 3
   },
   "file_extension": ".py",
   "mimetype": "text/x-python",
   "name": "python",
   "nbconvert_exporter": "python",
   "pygments_lexer": "ipython3",
   "version": "3.7.1"
  }
 },
 "nbformat": 4,
 "nbformat_minor": 2
}
