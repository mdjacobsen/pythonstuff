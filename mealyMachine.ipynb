{
 "cells": [
  {
   "cell_type": "code",
   "execution_count": 130,
   "metadata": {},
   "outputs": [],
   "source": [
    "class Sm:\n",
    "    \n",
    "    def __init__ (self, initState = 0):\n",
    "        self.state = initState\n",
    "        self.activeStates = [1,2,3]\n",
    "        self.stateLog = []\n",
    "        \n",
    "    def setState(self, inputState):\n",
    "        self.state = inputState\n",
    "        self.stateLog.append(inputState)\n",
    "        \n",
    "    def getState(self):\n",
    "        return self.state\n",
    "    \n",
    "    def evaluator(self):\n",
    "        while self.state in self.activeStates:\n",
    "            return(\"active\")\n",
    "        return(\"idle\")\n",
    "    \n",
    "    def controller(self):\n",
    "        if self.evaluator() == \"active\":\n",
    "            print(\"active, please wait\")\n",
    "        else:\n",
    "            print(\"Idle. Please input new state:\")\n",
    "            self.setState(input())\n",
    "            print(\"new state is \", self.evaluator())\n",
    "            \n",
    "    def getLog(self):\n",
    "        print(self.stateLog)\n",
    "        \n"
   ]
  },
  {
   "cell_type": "code",
   "execution_count": 131,
   "metadata": {},
   "outputs": [],
   "source": [
    "newSM = Sm()"
   ]
  },
  {
   "cell_type": "code",
   "execution_count": 132,
   "metadata": {},
   "outputs": [
    {
     "name": "stdout",
     "output_type": "stream",
     "text": [
      "0\n"
     ]
    }
   ],
   "source": [
    "print(newSM.state)"
   ]
  },
  {
   "cell_type": "code",
   "execution_count": 137,
   "metadata": {},
   "outputs": [],
   "source": [
    "newSM.setState(5)"
   ]
  },
  {
   "cell_type": "code",
   "execution_count": 138,
   "metadata": {},
   "outputs": [
    {
     "name": "stdout",
     "output_type": "stream",
     "text": [
      "Idle. Please input new state:\n",
      "2\n",
      "new state is  idle\n"
     ]
    }
   ],
   "source": [
    "newSM.controller()"
   ]
  },
  {
   "cell_type": "code",
   "execution_count": 136,
   "metadata": {},
   "outputs": [
    {
     "name": "stdout",
     "output_type": "stream",
     "text": [
      "[3]\n"
     ]
    }
   ],
   "source": [
    "newSM.getLog()"
   ]
  },
  {
   "cell_type": "code",
   "execution_count": null,
   "metadata": {},
   "outputs": [],
   "source": []
  }
 ],
 "metadata": {
  "kernelspec": {
   "display_name": "Python 3",
   "language": "python",
   "name": "python3"
  },
  "language_info": {
   "codemirror_mode": {
    "name": "ipython",
    "version": 3
   },
   "file_extension": ".py",
   "mimetype": "text/x-python",
   "name": "python",
   "nbconvert_exporter": "python",
   "pygments_lexer": "ipython3",
   "version": "3.7.1"
  }
 },
 "nbformat": 4,
 "nbformat_minor": 2
}
