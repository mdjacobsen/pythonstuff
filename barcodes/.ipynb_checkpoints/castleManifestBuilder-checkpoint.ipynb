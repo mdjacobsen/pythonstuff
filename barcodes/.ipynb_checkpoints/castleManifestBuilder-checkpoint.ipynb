{
 "cells": [
  {
   "cell_type": "code",
   "execution_count": 20,
   "metadata": {},
   "outputs": [],
   "source": [
    "#Name: castleManifestBuilder\n",
    "#Date: 5/18/2019\n",
    "#Author: Matt Jacobsen\n",
    "#Description: This program will: \n",
    "# 1) Read the contents of a pre-populated manifest (in CSV)\n",
    "# 2) Generate an 11-character length UID and apply to each line item in the manifest\n",
    "# 3) Generate a UPC barcode for each UI and insert it into the manifest*\n",
    "# 4) Generate a printable sheet for each barcode"
   ]
  },
  {
   "cell_type": "code",
   "execution_count": 19,
   "metadata": {},
   "outputs": [
    {
     "name": "stdout",
     "output_type": "stream",
     "text": [
      "[['Item', 'Setup', 'Acquired', 'Transport', 'Note', 'UID', 'Barcode']]\n"
     ]
    }
   ],
   "source": [
    "#junk test parser for different encoding and formats\n",
    "import csv\n",
    "csvFile = open(\"C:/users/jacob/downloads/Castle_Manifest.csv\", newline='')\n",
    "csvContents = csv.reader(csvFile, delimiter=',')\n",
    "testEnum = enumerate(csvContents)\n",
    "\n",
    "#print(type(testEnum))\n",
    "interestingrows=[row for id, row in enumerate(csvContents) if id == 0]\n",
    "print(interestingrows)"
   ]
  },
  {
   "cell_type": "code",
   "execution_count": 59,
   "metadata": {},
   "outputs": [],
   "source": [
    "#Step 1 - parse the CSV manifest\n",
    "def getData(filepath):\n",
    "    import csv\n",
    "    import collections\n",
    "    from collections import OrderedDict\n",
    "    import random\n",
    "    import string\n",
    "    #open the file\n",
    "    with open(filepath, encoding='utf8') as csvfile:\n",
    "        #parse the content in to an ordered dictionary\n",
    "        readCSV = csv.DictReader(csvfile, delimiter=',')\n",
    "        counter = 0\n",
    "        #write ordered dict into list for indexing\n",
    "        rowList = list(readCSV)\n",
    "        #determine number of needed UIDs\n",
    "        UIDnum = (len(rowList))\n",
    "        #acquire needed UIDs\n",
    "        UIDList = makeUIDlist(UIDnum)\n",
    "        for row in rowList:\n",
    "            value = UIDList[counter]\n",
    "            row['UID'] = value\n",
    "            strValue = str(value)\n",
    "            row['Barcode'] = \"C:/users/jacob/documents/code/barcodes/\" + strValue +\".svg\"\n",
    "            print(row)\n",
    "            #generateBarcode(strValue)\n",
    "            counter += 1\n",
    "        print(type(rowList))\n",
    "    with open(\"test.csv\", \"w\") as file:\n",
    "        writer = csv.writer(file, delimiter=\",\", lineterminator=\"\\n\")\n",
    "        for data in rowList:\n",
    "            for row_cells in data.values():\n",
    "                writer.writerow(row_cells)"
   ]
  },
  {
   "cell_type": "code",
   "execution_count": 80,
   "metadata": {},
   "outputs": [
    {
     "ename": "SyntaxError",
     "evalue": "invalid syntax (<ipython-input-80-649c56c93682>, line 18)",
     "output_type": "error",
     "traceback": [
      "\u001b[1;36m  File \u001b[1;32m\"<ipython-input-80-649c56c93682>\"\u001b[1;36m, line \u001b[1;32m18\u001b[0m\n\u001b[1;33m    headerList = i for i in headers\u001b[0m\n\u001b[1;37m                     ^\u001b[0m\n\u001b[1;31mSyntaxError\u001b[0m\u001b[1;31m:\u001b[0m invalid syntax\n"
     ]
    }
   ],
   "source": [
    "def getDataTest(filepath):\n",
    "    import csv\n",
    "    import collections\n",
    "    from collections import OrderedDict\n",
    "    import random\n",
    "    import string\n",
    "    #open the file\n",
    "    with open(filepath, encoding='utf8') as csvfile:\n",
    "        #parse the content in to an ordered dictionary\n",
    "        readCSV = csv.DictReader(csvfile, delimiter=',')\n",
    "        counter = 0\n",
    "        #write ordered dict into list for indexing\n",
    "        rowList = list(readCSV)\n",
    "        #determine number of needed UIDs\n",
    "    \n",
    "    headerRow = rowList[0]\n",
    "    headers = headerRow.keys()\n",
    "    newList = OrderedDict ([\n",
    "               (\"HEADERS\", [headers])\n",
    "    ])\n",
    "    print(newList)"
   ]
  },
  {
   "cell_type": "code",
   "execution_count": 81,
   "metadata": {},
   "outputs": [
    {
     "name": "stdout",
     "output_type": "stream",
     "text": [
      "OrderedDict([('HEADERS', [odict_keys(['Item', 'Setup', 'Acquired', 'Transport', 'Note', 'UID', 'Barcode'])])])\n"
     ]
    }
   ],
   "source": [
    "getDataTest('C:/users/jacob/downloads/Castle_Manifest.csv')"
   ]
  },
  {
   "cell_type": "code",
   "execution_count": 32,
   "metadata": {},
   "outputs": [],
   "source": [
    "#step 2 - generate UIDs for each\n",
    "def makeUIDList(reqUIDs):\n",
    "    import random\n",
    "    import string\n",
    "    #build dict to hold numbers as they are generated to compare new numbers to and ensure uniqueness\n",
    "    count = 0\n",
    "    UIDlist = []\n",
    "    while count <= reqUIDs:\n",
    "        newUID = ''.join(random.choices(string.digits, k=11))\n",
    "        #loop to check for duplicates in UIDlist, run it again if so\n",
    "        if newUID not in UIDlist:\n",
    "            UIDlist.append(newUID)\n",
    "            count += 1\n",
    "    return UIDlist "
   ]
  },
  {
   "cell_type": "code",
   "execution_count": 19,
   "metadata": {},
   "outputs": [],
   "source": [
    "#Step 3 - now for the barcodes...\n",
    "#generate a unique barcode for each UID\n",
    "def generateBarcode(itemCode):\n",
    "    import barcode\n",
    "    from io import StringIO\n",
    "    #specify the category of barcode \n",
    "    UPC = barcode.get_barcode_class('upc')\n",
    "    upc = UPC(itemCode)\n",
    "    fullname = upc.save(itemCode)\n",
    "    #fp = open(\"C:/users/jacob/documents/code/barcodes\", 'wb')\n",
    "    #upc.write(fp)"
   ]
  },
  {
   "cell_type": "code",
   "execution_count": 40,
   "metadata": {},
   "outputs": [],
   "source": [
    "x=str(12345678911)\n",
    "generateBarcode(x)"
   ]
  },
  {
   "cell_type": "code",
   "execution_count": 60,
   "metadata": {},
   "outputs": [],
   "source": [
    "def writeCSVUIDs(filename, UIDCount):\n",
    "    with open(filename+\".csv\", \"w\", newline='') as file:\n",
    "        writer = csv.writer(file)\n",
    "        UIDList = makeUIDList(UIDCount)\n",
    "        for UID in UIDList:\n",
    "            writer.writerow([UID])"
   ]
  },
  {
   "cell_type": "code",
   "execution_count": 61,
   "metadata": {},
   "outputs": [],
   "source": [
    "def writeCSVScans(filename, barcodeScans):\n",
    "    with open(filename+\".csv\", \"w\", newline='') as file:\n",
    "        writer = csv.writer(file)\n",
    "        for barcode in barcodeScans:\n",
    "            writer.writerow([barcode])"
   ]
  },
  {
   "cell_type": "code",
   "execution_count": 62,
   "metadata": {},
   "outputs": [],
   "source": [
    "writeCSVUIDs(\"test1\", 50)"
   ]
  },
  {
   "cell_type": "code",
   "execution_count": 64,
   "metadata": {},
   "outputs": [],
   "source": [
    "def readTextScans():\n",
    "    with open(\"C:/users/jacob/documents/code/barcodes/codeScan.txt\") as barcodeFile:\n",
    "        lines = [line.strip() for line in barcodeFile.readlines()]"
   ]
  },
  {
   "cell_type": "code",
   "execution_count": 65,
   "metadata": {},
   "outputs": [],
   "source": [
    "readTextScans()"
   ]
  },
  {
   "cell_type": "code",
   "execution_count": 66,
   "metadata": {},
   "outputs": [],
   "source": [
    "writeCSVScans(\"testwrite\", lines)"
   ]
  },
  {
   "cell_type": "code",
   "execution_count": null,
   "metadata": {},
   "outputs": [],
   "source": []
  }
 ],
 "metadata": {
  "kernelspec": {
   "display_name": "Python 3",
   "language": "python",
   "name": "python3"
  },
  "language_info": {
   "codemirror_mode": {
    "name": "ipython",
    "version": 3
   },
   "file_extension": ".py",
   "mimetype": "text/x-python",
   "name": "python",
   "nbconvert_exporter": "python",
   "pygments_lexer": "ipython3",
   "version": "3.7.1"
  }
 },
 "nbformat": 4,
 "nbformat_minor": 2
}
