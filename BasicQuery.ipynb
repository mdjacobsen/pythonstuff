{
 "cells": [
  {
   "cell_type": "markdown",
   "metadata": {},
   "source": [
    "# Basic MaterialCenter REST API"
   ]
  },
  {
   "cell_type": "markdown",
   "metadata": {},
   "source": [
    "We will need the requests and json modules to handle communication with the server:"
   ]
  },
  {
   "cell_type": "code",
   "execution_count": 1,
   "metadata": {},
   "outputs": [],
   "source": [
    "import requests\n",
    "import json"
   ]
  },
  {
   "cell_type": "markdown",
   "metadata": {},
   "source": [
    "Define parameters of the connection:"
   ]
  },
  {
   "cell_type": "code",
   "execution_count": 2,
   "metadata": {},
   "outputs": [],
   "source": [
    "session=requests.Session()\n",
    "session.params={'format':'json'}\n",
    "url='http://ec2-52-37-231-18.us-west-2.compute.amazonaws.com/MaterialCenter/servlet/rest/'"
   ]
  },
  {
   "cell_type": "markdown",
   "metadata": {},
   "source": [
    "Login: (credentials should not be included in code!)"
   ]
  },
  {
   "cell_type": "code",
   "execution_count": 3,
   "metadata": {},
   "outputs": [
    {
     "data": {
      "text/plain": [
       "<Response [200]>"
      ]
     },
     "execution_count": 3,
     "metadata": {},
     "output_type": "execute_result"
    }
   ],
   "source": [
    "user='smroot'\n",
    "password='sdm'\n",
    "\n",
    "data={'passwd':password,'user':user}\n",
    "\n",
    "session.post(url+'login',params=data)\n",
    "\n",
    "#dir(reply)"
   ]
  },
  {
   "cell_type": "markdown",
   "metadata": {},
   "source": [
    "make a query: Get a users real name and last activity time\n",
    "specify object type and expression"
   ]
  },
  {
   "cell_type": "code",
   "execution_count": 4,
   "metadata": {},
   "outputs": [
    {
     "name": "stdout",
     "output_type": "stream",
     "text": [
      "{'numPages': 1, 'view': {'fields': [{'name': 'releaseLevelLabel', 'label': 'RL', 'type': 'String', 'list': False}, {'name': 'form', 'label': 'Form', 'type': 'String', 'list': False}, {'name': 'editRevisionNumber', 'label': 'Revision', 'type': 'Long', 'list': False}, {'name': 'generatedFromBuildProcessRef', 'label': 'Build Process', 'type': 'DbObject', 'list': False}, {'name': 'generatedFromPostProcessRef', 'label': 'Post Build Process', 'type': 'DbObject', 'list': False}]}, 'total': 1, 'query': \"1;AM_Part;[name=='*Test-Part-2*']\", 'objects': [{'oid': 'pEEAAm53Q:Loc', 'type': 'AM_Part', 'attrs': {'releaseLevelLabel': {'text': '0-In-Work'}, 'generatedFromBuildProcessRef': {'oid': '', 'text': ''}, 'generatedFromPostProcessRef': {'oid': '', 'text': ''}, 'form': {}, 'editRevisionNumber': {'text': '1'}}}], 'pageSize': 100, 'label': 'AM_Part', 'page': 1, 'type': 'AM_Part', 'version': '1.9'}\n"
     ]
    }
   ],
   "source": [
    "objectType='AM_Part'\n",
    "expr=\"[name=='*Test-Part-2*']\"\n",
    "data={'type':objectType, 'expr':expr}\n",
    "reply=session.post(url+'query', data)\n",
    "\n",
    "result=json.loads(reply.text)\n",
    "print(result)"
   ]
  },
  {
   "cell_type": "markdown",
   "metadata": {},
   "source": [
    "Get the Real Name and time of last activity of the first user from the reply/result:"
   ]
  },
  {
   "cell_type": "code",
   "execution_count": 5,
   "metadata": {},
   "outputs": [
    {
     "data": {
      "text/plain": [
       "'MaterialCenter Root'"
      ]
     },
     "execution_count": 5,
     "metadata": {},
     "output_type": "execute_result"
    }
   ],
   "source": [
    "result['objects'][0]['attrs']['userRealName']['text']"
   ]
  },
  {
   "cell_type": "code",
   "execution_count": 6,
   "metadata": {},
   "outputs": [
    {
     "data": {
      "text/plain": [
       "'2020-04-06 11:25'"
      ]
     },
     "execution_count": 6,
     "metadata": {},
     "output_type": "execute_result"
    }
   ],
   "source": [
    "result['objects'][0]['attrs']['lastActivityTime']['text']"
   ]
  },
  {
   "cell_type": "markdown",
   "metadata": {},
   "source": [
    "logoff:"
   ]
  },
  {
   "cell_type": "code",
   "execution_count": 12,
   "metadata": {},
   "outputs": [
    {
     "data": {
      "text/plain": [
       "<Response [200]>"
      ]
     },
     "execution_count": 12,
     "metadata": {},
     "output_type": "execute_result"
    }
   ],
   "source": [
    "session.get(url+'logoff')"
   ]
  },
  {
   "cell_type": "markdown",
   "metadata": {},
   "source": [
    "Done!"
   ]
  }
 ],
 "metadata": {
  "kernelspec": {
   "display_name": "Python 3",
   "language": "python",
   "name": "python3"
  },
  "language_info": {
   "codemirror_mode": {
    "name": "ipython",
    "version": 3
   },
   "file_extension": ".py",
   "mimetype": "text/x-python",
   "name": "python",
   "nbconvert_exporter": "python",
   "pygments_lexer": "ipython3",
   "version": "3.7.1"
  }
 },
 "nbformat": 4,
 "nbformat_minor": 1
}
