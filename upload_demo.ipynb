{
 "cells": [
  {
   "cell_type": "markdown",
   "metadata": {},
   "source": [
    "## Authenticate to HyperThought™\n",
    "Go to the profile page and copy encoded auth information."
   ]
  },
  {
   "cell_type": "code",
   "execution_count": 1,
   "metadata": {},
   "outputs": [
    {
     "name": "stdout",
     "output_type": "stream",
     "text": [
      "Enter encoded auth info: eyJhY2Nlc3NUb2tlbiI6ICJiMTRlZmE1MDQ0MWU0OGI3YjI4Y2RjOWFlYWU0MGUzOCIsICJyZWZyZXNoVG9rZW4iOiAiYjEwYzY1NzY0ZDBiNGMzODkxNzIxMDZjYzYxZTc4N2EiLCAiZXhwaXJlc0luIjogMzYwMCwgImV4cGlyZXNBdCI6ICIyMDIwLTAxLTA5VDEzOjE0OjIzLjIxMTIzNS0wNTowMCIsICJiYXNlVXJsIjogImh0dHBzOi8vcnhpY2UucnguYWZybC13cnMuaHBjLm1pbCIsICJjbGllbnRJZCI6ICI1NjY2MjkifQ==\n"
     ]
    }
   ],
   "source": [
    "import auth\n",
    "auth_info = input(\"Enter encoded auth info: \")\n",
    "auth_ = auth.Authorization(auth_info)"
   ]
  },
  {
   "cell_type": "markdown",
   "metadata": {},
   "source": [
    "## Get a location url\n",
    "Navigate to the file system location of interest and copy the entire url."
   ]
  },
  {
   "cell_type": "code",
   "execution_count": 2,
   "metadata": {},
   "outputs": [
    {
     "name": "stdout",
     "output_type": "stream",
     "text": [
      "Enter location url: https://rxice.rx.afrl-wrs.hpc.mil/api/files/browser/?project=617d98f5-5862-438c-84b4-ef839bb445f7\n"
     ]
    }
   ],
   "source": [
    "location_url = input(\"Enter location url: \")"
   ]
  },
  {
   "cell_type": "markdown",
   "metadata": {},
   "source": [
    "## Enter a job name"
   ]
  },
  {
   "cell_type": "code",
   "execution_count": 3,
   "metadata": {},
   "outputs": [
    {
     "name": "stdout",
     "output_type": "stream",
     "text": [
      "Enter job name: final_test\n"
     ]
    }
   ],
   "source": [
    "job_name = input(\"Enter job name: \")"
   ]
  },
  {
   "cell_type": "markdown",
   "metadata": {},
   "source": [
    "## Create an object to manage the upload job"
   ]
  },
  {
   "cell_type": "code",
   "execution_count": 4,
   "metadata": {},
   "outputs": [
    {
     "name": "stdout",
     "output_type": "stream",
     "text": [
      "Job database file created: job_databases/final_test.db\n"
     ]
    }
   ],
   "source": [
    "import upload\n",
    "uploader = upload.Uploader(auth=auth_, job_name=job_name, location_url=location_url)"
   ]
  },
  {
   "cell_type": "markdown",
   "metadata": {},
   "source": [
    "## Upload a single file"
   ]
  },
  {
   "cell_type": "code",
   "execution_count": 5,
   "metadata": {},
   "outputs": [
    {
     "name": "stdout",
     "output_type": "stream",
     "text": [
      "Enter a file path: upload.py\n",
      "upload.py has been uploaded.\n"
     ]
    }
   ],
   "source": [
    "path = input(\"Enter a file path: \")\n",
    "uploader.upload(path)"
   ]
  },
  {
   "cell_type": "markdown",
   "metadata": {},
   "source": [
    "## Upload a folder"
   ]
  },
  {
   "cell_type": "code",
   "execution_count": 6,
   "metadata": {},
   "outputs": [
    {
     "name": "stdout",
     "output_type": "stream",
     "text": [
      "Enter a folder path: /home/thiesejm/demo\n",
      "/home/thiesejm/demo/selectize/css/selectize.bootstrap3.css has been uploaded.\n",
      "/home/thiesejm/demo/selectize/css/selectize.bootstrap2.css has been uploaded.\n",
      "/home/thiesejm/demo/selectize/css/selectize.default.css has been uploaded.\n",
      "/home/thiesejm/demo/selectize/css/selectize.legacy.css has been uploaded.\n",
      "/home/thiesejm/demo/selectize/css/selectize.css has been uploaded.\n",
      "/home/thiesejm/demo/selectize/less/plugins/dropdown_header.less has been uploaded.\n",
      "/home/thiesejm/demo/selectize/less/plugins/drag_drop.less has been uploaded.\n",
      "/home/thiesejm/demo/selectize/less/plugins/optgroup_columns.less has been uploaded.\n",
      "/home/thiesejm/demo/selectize/less/plugins/remove_button.less has been uploaded.\n",
      "/home/thiesejm/demo/selectize/less/selectize.bootstrap2.less has been uploaded.\n",
      "/home/thiesejm/demo/selectize/less/selectize.bootstrap3.less has been uploaded.\n",
      "/home/thiesejm/demo/selectize/less/selectize.default.less has been uploaded.\n",
      "/home/thiesejm/demo/selectize/less/selectize.legacy.less has been uploaded.\n",
      "/home/thiesejm/demo/selectize/less/selectize.less has been uploaded.\n",
      "/home/thiesejm/demo/selectize/js/selectize.min.js has been uploaded.\n",
      "/home/thiesejm/demo/selectize/js/standalone/selectize.min.js has been uploaded.\n",
      "/home/thiesejm/demo/selectize/js/standalone/selectize.js has been uploaded.\n",
      "/home/thiesejm/demo/selectize/js/selectize.js has been uploaded.\n",
      "/home/thiesejm/demo/oidc-client/oidc-client.min.js has been uploaded.\n",
      "/home/thiesejm/demo/moment/js/moment-timezone-with-data.min.js has been uploaded.\n",
      "/home/thiesejm/demo/moment/js/moment-with-locales.js has been uploaded.\n",
      "/home/thiesejm/demo/moment/js/moment.js has been uploaded.\n"
     ]
    }
   ],
   "source": [
    "path = input(\"Enter a folder path: \")\n",
    "uploader.upload(path)"
   ]
  },
  {
   "cell_type": "markdown",
   "metadata": {},
   "source": [
    "## Ensure that everything in the folder arrived"
   ]
  },
  {
   "cell_type": "code",
   "execution_count": 7,
   "metadata": {},
   "outputs": [
    {
     "data": {
      "text/html": [
       "<div>\n",
       "<style scoped>\n",
       "    .dataframe tbody tr th:only-of-type {\n",
       "        vertical-align: middle;\n",
       "    }\n",
       "\n",
       "    .dataframe tbody tr th {\n",
       "        vertical-align: top;\n",
       "    }\n",
       "\n",
       "    .dataframe thead th {\n",
       "        text-align: right;\n",
       "    }\n",
       "</style>\n",
       "<table border=\"1\" class=\"dataframe\">\n",
       "  <thead>\n",
       "    <tr style=\"text-align: right;\">\n",
       "      <th></th>\n",
       "      <th>size</th>\n",
       "      <th>created_on</th>\n",
       "      <th>modified_on</th>\n",
       "    </tr>\n",
       "    <tr>\n",
       "      <th>path</th>\n",
       "      <th></th>\n",
       "      <th></th>\n",
       "      <th></th>\n",
       "    </tr>\n",
       "  </thead>\n",
       "  <tbody>\n",
       "    <tr>\n",
       "      <td>/home/thiesejm/demo/selectize/css/selectize.bootstrap3.css</td>\n",
       "      <td>10947</td>\n",
       "      <td>2019-09-19 11:33:30.173823</td>\n",
       "      <td>2019-09-06 11:14:32.666090</td>\n",
       "    </tr>\n",
       "    <tr>\n",
       "      <td>/home/thiesejm/demo/selectize/css/selectize.bootstrap2.css</td>\n",
       "      <td>15702</td>\n",
       "      <td>2019-09-19 11:33:30.172823</td>\n",
       "      <td>2019-09-06 11:14:32.666090</td>\n",
       "    </tr>\n",
       "    <tr>\n",
       "      <td>/home/thiesejm/demo/selectize/css/selectize.default.css</td>\n",
       "      <td>11882</td>\n",
       "      <td>2019-09-19 11:33:30.175823</td>\n",
       "      <td>2019-09-06 11:14:32.666090</td>\n",
       "    </tr>\n",
       "    <tr>\n",
       "      <td>/home/thiesejm/demo/selectize/css/selectize.legacy.css</td>\n",
       "      <td>11296</td>\n",
       "      <td>2019-09-19 11:33:30.176823</td>\n",
       "      <td>2019-09-06 11:14:32.666090</td>\n",
       "    </tr>\n",
       "    <tr>\n",
       "      <td>/home/thiesejm/demo/selectize/css/selectize.css</td>\n",
       "      <td>8785</td>\n",
       "      <td>2019-09-19 11:33:30.174823</td>\n",
       "      <td>2019-09-06 11:14:32.666090</td>\n",
       "    </tr>\n",
       "  </tbody>\n",
       "</table>\n",
       "</div>"
      ],
      "text/plain": [
       "                                                     size  \\\n",
       "path                                                        \n",
       "/home/thiesejm/demo/selectize/css/selectize.boo...  10947   \n",
       "/home/thiesejm/demo/selectize/css/selectize.boo...  15702   \n",
       "/home/thiesejm/demo/selectize/css/selectize.def...  11882   \n",
       "/home/thiesejm/demo/selectize/css/selectize.leg...  11296   \n",
       "/home/thiesejm/demo/selectize/css/selectize.css      8785   \n",
       "\n",
       "                                                                    created_on  \\\n",
       "path                                                                             \n",
       "/home/thiesejm/demo/selectize/css/selectize.boo...  2019-09-19 11:33:30.173823   \n",
       "/home/thiesejm/demo/selectize/css/selectize.boo...  2019-09-19 11:33:30.172823   \n",
       "/home/thiesejm/demo/selectize/css/selectize.def...  2019-09-19 11:33:30.175823   \n",
       "/home/thiesejm/demo/selectize/css/selectize.leg...  2019-09-19 11:33:30.176823   \n",
       "/home/thiesejm/demo/selectize/css/selectize.css     2019-09-19 11:33:30.174823   \n",
       "\n",
       "                                                                   modified_on  \n",
       "path                                                                            \n",
       "/home/thiesejm/demo/selectize/css/selectize.boo...  2019-09-06 11:14:32.666090  \n",
       "/home/thiesejm/demo/selectize/css/selectize.boo...  2019-09-06 11:14:32.666090  \n",
       "/home/thiesejm/demo/selectize/css/selectize.def...  2019-09-06 11:14:32.666090  \n",
       "/home/thiesejm/demo/selectize/css/selectize.leg...  2019-09-06 11:14:32.666090  \n",
       "/home/thiesejm/demo/selectize/css/selectize.css     2019-09-06 11:14:32.666090  "
      ]
     },
     "execution_count": 7,
     "metadata": {},
     "output_type": "execute_result"
    }
   ],
   "source": [
    "import manifest\n",
    "df_manifest = manifest.create_manifest(directory=path)\n",
    "df_manifest.head()"
   ]
  },
  {
   "cell_type": "code",
   "execution_count": 8,
   "metadata": {},
   "outputs": [
    {
     "data": {
      "text/html": [
       "<div>\n",
       "<style scoped>\n",
       "    .dataframe tbody tr th:only-of-type {\n",
       "        vertical-align: middle;\n",
       "    }\n",
       "\n",
       "    .dataframe tbody tr th {\n",
       "        vertical-align: top;\n",
       "    }\n",
       "\n",
       "    .dataframe thead th {\n",
       "        text-align: right;\n",
       "    }\n",
       "</style>\n",
       "<table border=\"1\" class=\"dataframe\">\n",
       "  <thead>\n",
       "    <tr style=\"text-align: right;\">\n",
       "      <th></th>\n",
       "      <th>path</th>\n",
       "    </tr>\n",
       "  </thead>\n",
       "  <tbody>\n",
       "    <tr>\n",
       "      <td>0</td>\n",
       "      <td>/home/thiesejm/Documents/repos/upload_script/u...</td>\n",
       "    </tr>\n",
       "    <tr>\n",
       "      <td>1</td>\n",
       "      <td>/home/thiesejm/demo/moment/js/moment-timezone-...</td>\n",
       "    </tr>\n",
       "    <tr>\n",
       "      <td>2</td>\n",
       "      <td>/home/thiesejm/demo/moment/js/moment-with-loca...</td>\n",
       "    </tr>\n",
       "    <tr>\n",
       "      <td>3</td>\n",
       "      <td>/home/thiesejm/demo/moment/js/moment.js</td>\n",
       "    </tr>\n",
       "    <tr>\n",
       "      <td>4</td>\n",
       "      <td>/home/thiesejm/demo/oidc-client/oidc-client.mi...</td>\n",
       "    </tr>\n",
       "  </tbody>\n",
       "</table>\n",
       "</div>"
      ],
      "text/plain": [
       "                                                path\n",
       "0  /home/thiesejm/Documents/repos/upload_script/u...\n",
       "1  /home/thiesejm/demo/moment/js/moment-timezone-...\n",
       "2  /home/thiesejm/demo/moment/js/moment-with-loca...\n",
       "3            /home/thiesejm/demo/moment/js/moment.js\n",
       "4  /home/thiesejm/demo/oidc-client/oidc-client.mi..."
      ]
     },
     "execution_count": 8,
     "metadata": {},
     "output_type": "execute_result"
    }
   ],
   "source": [
    "df_log = uploader.get_log()\n",
    "df_log.head()"
   ]
  },
  {
   "cell_type": "code",
   "execution_count": 9,
   "metadata": {},
   "outputs": [
    {
     "data": {
      "text/plain": [
       "set()"
      ]
     },
     "execution_count": 9,
     "metadata": {},
     "output_type": "execute_result"
    }
   ],
   "source": [
    "set(df_manifest.index) - set(df_log.path)"
   ]
  },
  {
   "cell_type": "markdown",
   "metadata": {},
   "source": [
    "## Show errors"
   ]
  },
  {
   "cell_type": "code",
   "execution_count": 10,
   "metadata": {},
   "outputs": [
    {
     "data": {
      "text/html": [
       "<div>\n",
       "<style scoped>\n",
       "    .dataframe tbody tr th:only-of-type {\n",
       "        vertical-align: middle;\n",
       "    }\n",
       "\n",
       "    .dataframe tbody tr th {\n",
       "        vertical-align: top;\n",
       "    }\n",
       "\n",
       "    .dataframe thead th {\n",
       "        text-align: right;\n",
       "    }\n",
       "</style>\n",
       "<table border=\"1\" class=\"dataframe\">\n",
       "  <thead>\n",
       "    <tr style=\"text-align: right;\">\n",
       "      <th></th>\n",
       "      <th>path</th>\n",
       "      <th>error</th>\n",
       "      <th>occurred_on</th>\n",
       "    </tr>\n",
       "  </thead>\n",
       "  <tbody>\n",
       "  </tbody>\n",
       "</table>\n",
       "</div>"
      ],
      "text/plain": [
       "Empty DataFrame\n",
       "Columns: [path, error, occurred_on]\n",
       "Index: []"
      ]
     },
     "execution_count": 10,
     "metadata": {},
     "output_type": "execute_result"
    }
   ],
   "source": [
    "df_errors = uploader.get_errors()\n",
    "df_errors.head()"
   ]
  },
  {
   "cell_type": "markdown",
   "metadata": {},
   "source": [
    "(There were no errors for this job.)"
   ]
  },
  {
   "cell_type": "markdown",
   "metadata": {},
   "source": [
    "## Retry errors  \n",
    "The following command could be used to retry uploads that didn't go through, if there were any."
   ]
  },
  {
   "cell_type": "code",
   "execution_count": 11,
   "metadata": {},
   "outputs": [],
   "source": [
    "uploader.retry_errors()"
   ]
  },
  {
   "cell_type": "markdown",
   "metadata": {},
   "source": [
    "(There was nothing to retry.)"
   ]
  }
 ],
 "metadata": {
  "kernelspec": {
   "display_name": "Python 3",
   "language": "python",
   "name": "python3"
  },
  "language_info": {
   "codemirror_mode": {
    "name": "ipython",
    "version": 3
   },
   "file_extension": ".py",
   "mimetype": "text/x-python",
   "name": "python",
   "nbconvert_exporter": "python",
   "pygments_lexer": "ipython3",
   "version": "3.7.1"
  }
 },
 "nbformat": 4,
 "nbformat_minor": 2
}
