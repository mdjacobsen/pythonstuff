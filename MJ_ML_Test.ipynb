{
 "cells": [
  {
   "cell_type": "code",
   "execution_count": 25,
   "metadata": {},
   "outputs": [],
   "source": [
    "#Description: Notebook for testing REST endpoint functionality in MarkLogic\n",
    "#Author: Matthew Jacobsen\n",
    "#Date: 4/30/2019\n",
    "\n",
    "import requests\n",
    "import getpass\n",
    "from requests.auth import HTTPDigestAuth"
   ]
  },
  {
   "cell_type": "code",
   "execution_count": 26,
   "metadata": {},
   "outputs": [
    {
     "name": "stdout",
     "output_type": "stream",
     "text": [
      "Username for MarkLogic: ········\n",
      "Password for MarkLogic: ········\n"
     ]
    }
   ],
   "source": [
    "#Set variables for requests\n",
    "\n",
    "server = 'http://localhost:8000/'\n",
    "endpoint = 'LATEST/documents/'\n",
    "username = getpass.getpass('Username for MarkLogic: ')\n",
    "password = getpass.getpass('Password for MarkLogic: ')"
   ]
  },
  {
   "cell_type": "code",
   "execution_count": 42,
   "metadata": {},
   "outputs": [],
   "source": [
    "#Specify file location on local filesystem, header parameter for content type, and uri for placement in MarkLogic\n",
    "\n",
    "file = 'C:/Users/jacob/Documents/tensile-test-data.rdf.xml'\n",
    "headers = {'Content-Type':'application/xml'}\n",
    "\n",
    "params = {\n",
    "    'uri': '/xml/tensileResults1.xml'\n",
    "}"
   ]
  },
  {
   "cell_type": "code",
   "execution_count": 43,
   "metadata": {},
   "outputs": [],
   "source": [
    "#Parse the file data\n",
    "\n",
    "data = open(file, 'rb')"
   ]
  },
  {
   "cell_type": "code",
   "execution_count": 44,
   "metadata": {},
   "outputs": [
    {
     "name": "stdout",
     "output_type": "stream",
     "text": [
      "{'Location': '/v1/documents?uri=/xml/tensileResults1.xml', 'Server': 'MarkLogic', 'Content-Length': '0', 'Connection': 'Keep-Alive', 'Keep-Alive': 'timeout=5'}\n",
      "b''\n"
     ]
    }
   ],
   "source": [
    "#Construct and execute HTTP PUT request\n",
    "\n",
    "url = server + endpoint\n",
    "r = requests.put(url=url, headers=headers, params=params, data=data, verify=False, auth=HTTPDigestAuth(username, password))\n",
    "\n",
    "print(r.headers)\n",
    "print(r.content)"
   ]
  },
  {
   "cell_type": "code",
   "execution_count": 45,
   "metadata": {},
   "outputs": [
    {
     "name": "stdout",
     "output_type": "stream",
     "text": [
      "201\n"
     ]
    }
   ],
   "source": [
    "print(r.status_code)"
   ]
  },
  {
   "cell_type": "code",
   "execution_count": 46,
   "metadata": {},
   "outputs": [
    {
     "name": "stdout",
     "output_type": "stream",
     "text": [
      "{'Content-type': 'application/xml; charset=utf-8', 'ML-Effective-Timestamp': '15568124674412432', 'Server': 'MarkLogic', 'Content-Length': '364', 'Connection': 'Keep-Alive', 'Keep-Alive': 'timeout=5'}\n",
      "b'<search:response snippet-format=\"snippet\" total=\"0\" start=\"1\" page-length=\"10\" xmlns:search=\"http://marklogic.com/appservices/search\">\\n  <search:qtext>Phase</search:qtext>\\n  <search:metrics>\\n    <search:query-resolution-time>PT0.0035094S</search:query-resolution-time>\\n    <search:total-time>PT0.0037483S</search:total-time>\\n  </search:metrics>\\n</search:response>\\n'\n"
     ]
    }
   ],
   "source": [
    "#retrieve test contents using GET request\n",
    "\n",
    "searchendpoint = 'LATEST/search?q='\n",
    "searchterm = 'Phase'\n",
    "url = server + searchendpoint + searchterm\n",
    "rSearch = requests.get(url=url, auth=HTTPDigestAuth(username,password))\n",
    "\n",
    "print(rSearch.headers)\n",
    "print(rSearch.content)"
   ]
  },
  {
   "cell_type": "code",
   "execution_count": null,
   "metadata": {},
   "outputs": [],
   "source": []
  }
 ],
 "metadata": {
  "kernelspec": {
   "display_name": "Python 3",
   "language": "python",
   "name": "python3"
  },
  "language_info": {
   "codemirror_mode": {
    "name": "ipython",
    "version": 3
   },
   "file_extension": ".py",
   "mimetype": "text/x-python",
   "name": "python",
   "nbconvert_exporter": "python",
   "pygments_lexer": "ipython3",
   "version": "3.7.1"
  }
 },
 "nbformat": 4,
 "nbformat_minor": 2
}
