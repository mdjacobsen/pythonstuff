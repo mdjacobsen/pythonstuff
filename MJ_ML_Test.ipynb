{
 "cells": [
  {
   "cell_type": "code",
   "execution_count": 1,
   "metadata": {},
   "outputs": [],
   "source": [
    "#Description: Notebook for testing REST endpoint functionality in MarkLogic\n",
    "#Author: Matthew Jacobsen\n",
    "#Date: 4/30/2019\n",
    "\n",
    "import requests\n",
    "import getpass\n",
    "from requests.auth import HTTPDigestAuth"
   ]
  },
  {
   "cell_type": "code",
   "execution_count": 2,
   "metadata": {},
   "outputs": [
    {
     "name": "stdout",
     "output_type": "stream",
     "text": [
      "Username for MarkLogic: ········\n",
      "Password for MarkLogic: ········\n"
     ]
    }
   ],
   "source": [
    "#Set variables for requests\n",
    "\n",
    "server = 'http://localhost:8000/'\n",
    "endpoint = 'LATEST/documents/'\n",
    "username = getpass.getpass('Username for MarkLogic: ')\n",
    "password = getpass.getpass('Password for MarkLogic: ')"
   ]
  },
  {
   "cell_type": "code",
   "execution_count": 3,
   "metadata": {},
   "outputs": [],
   "source": [
    "#Specify file location on local filesystem, header parameter for content type, and uri for placement in MarkLogic\n",
    "\n",
    "file = 'C:/Users/jacob/Documents/tensile-test-data.rdf.xml'\n",
    "headers = {'Content-Type':'application/xml'}\n",
    "\n",
    "params = {\n",
    "    'uri': '/xml/tensileResults1.xml'\n",
    "}"
   ]
  },
  {
   "cell_type": "code",
   "execution_count": 4,
   "metadata": {},
   "outputs": [],
   "source": [
    "#Parse the file data\n",
    "\n",
    "data = open(file, 'rb')"
   ]
  },
  {
   "cell_type": "code",
   "execution_count": 5,
   "metadata": {},
   "outputs": [
    {
     "name": "stdout",
     "output_type": "stream",
     "text": [
      "{'Location': '/v1/documents?uri=/xml/tensileResults1.xml', 'Server': 'MarkLogic', 'Content-Length': '0', 'Connection': 'Keep-Alive', 'Keep-Alive': 'timeout=5'}\n",
      "b''\n"
     ]
    }
   ],
   "source": [
    "#Construct and execute HTTP PUT request\n",
    "\n",
    "url = server + endpoint\n",
    "r = requests.put(url=url, headers=headers, params=params, data=data, verify=False, auth=HTTPDigestAuth(username, password))\n",
    "\n",
    "print(r.headers)\n",
    "print(r.content)"
   ]
  },
  {
   "cell_type": "code",
   "execution_count": 6,
   "metadata": {},
   "outputs": [
    {
     "name": "stdout",
     "output_type": "stream",
     "text": [
      "201\n"
     ]
    }
   ],
   "source": [
    "print(r.status_code)"
   ]
  },
  {
   "cell_type": "code",
   "execution_count": 8,
   "metadata": {},
   "outputs": [
    {
     "name": "stdout",
     "output_type": "stream",
     "text": [
      "{'Content-type': 'application/xml; charset=utf-8', 'ML-Effective-Timestamp': '15917248800463764', 'Server': 'MarkLogic', 'Content-Length': '1014', 'Connection': 'Keep-Alive', 'Keep-Alive': 'timeout=5'}\n",
      "b'<search:response snippet-format=\"snippet\" total=\"1\" start=\"1\" page-length=\"10\" xmlns:search=\"http://marklogic.com/appservices/search\">\\n  <search:result index=\"1\" uri=\"books.xml\" path=\"fn:doc(&quot;books.xml&quot;)\" score=\"19712\" confidence=\"0.8783172\" fitness=\"0.8783172\" href=\"/v1/documents?uri=books.xml\" mimetype=\"application/xml\" format=\"xml\">\\n    <search:snippet>\\n      <search:match path=\"fn:doc(&quot;books.xml&quot;)/*:books/*:book/*:notes\">A <search:highlight>good</search:highlight> book</search:match>\\n      <search:match path=\"fn:doc(&quot;books.xml&quot;)/*:books/*:book/notes2\">A really <search:highlight>good</search:highlight> book</search:match>\\n    </search:snippet>\\n  </search:result>\\n  <search:qtext>good</search:qtext>\\n  <search:metrics>\\n    <search:query-resolution-time>PT0.0117081S</search:query-resolution-time>\\n    <search:snippet-resolution-time>PT0.0085595S</search:snippet-resolution-time>\\n    <search:total-time>PT0.3689762S</search:total-time>\\n  </search:metrics>\\n</search:response>\\n'\n"
     ]
    }
   ],
   "source": [
    "#retrieve test contents using GET request\n",
    "\n",
    "searchendpoint = 'LATEST/search?q='\n",
    "searchterm = 'good'\n",
    "url = server + searchendpoint + searchterm\n",
    "rSearch = requests.get(url=url, auth=HTTPDigestAuth(username,password))\n",
    "\n",
    "print(rSearch.headers)\n",
    "print(rSearch.content)"
   ]
  },
  {
   "cell_type": "code",
   "execution_count": null,
   "metadata": {},
   "outputs": [],
   "source": []
  }
 ],
 "metadata": {
  "kernelspec": {
   "display_name": "Python 3",
   "language": "python",
   "name": "python3"
  },
  "language_info": {
   "codemirror_mode": {
    "name": "ipython",
    "version": 3
   },
   "file_extension": ".py",
   "mimetype": "text/x-python",
   "name": "python",
   "nbconvert_exporter": "python",
   "pygments_lexer": "ipython3",
   "version": "3.7.1"
  }
 },
 "nbformat": 4,
 "nbformat_minor": 2
}
