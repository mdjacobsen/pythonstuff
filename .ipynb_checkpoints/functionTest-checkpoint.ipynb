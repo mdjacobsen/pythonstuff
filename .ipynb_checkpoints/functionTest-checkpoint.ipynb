{
 "cells": [
  {
   "cell_type": "code",
   "execution_count": 2,
   "metadata": {},
   "outputs": [],
   "source": [
    "#Author: Matthew Jacobsen\n",
    "#Date: 10/22/2019\n",
    "#Purpose: Test various function behaviors, including unit tests"
   ]
  },
  {
   "cell_type": "code",
   "execution_count": 7,
   "metadata": {},
   "outputs": [],
   "source": [
    "def main():\n",
    "    \n",
    "    def setNumbers(a, b):\n",
    "        global x\n",
    "        global y\n",
    "        x = a\n",
    "        y = b\n",
    "\n",
    "    def runCalc():\n",
    "        setNumbers(1,2)\n",
    "        z = x + y\n",
    "        return(z)\n",
    "    \n",
    "    print(runCalc())"
   ]
  },
  {
   "cell_type": "code",
   "execution_count": 8,
   "metadata": {},
   "outputs": [],
   "source": [
    "main()"
   ]
  },
  {
   "cell_type": "code",
   "execution_count": null,
   "metadata": {},
   "outputs": [],
   "source": []
  }
 ],
 "metadata": {
  "kernelspec": {
   "display_name": "Python 3",
   "language": "python",
   "name": "python3"
  },
  "language_info": {
   "codemirror_mode": {
    "name": "ipython",
    "version": 3
   },
   "file_extension": ".py",
   "mimetype": "text/x-python",
   "name": "python",
   "nbconvert_exporter": "python",
   "pygments_lexer": "ipython3",
   "version": "3.7.1"
  }
 },
 "nbformat": 4,
 "nbformat_minor": 2
}
