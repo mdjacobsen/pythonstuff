{
 "cells": [
  {
   "cell_type": "code",
   "execution_count": 23,
   "metadata": {},
   "outputs": [
    {
     "name": "stdout",
     "output_type": "stream",
     "text": [
      "How many files? Choose 1, 5, 10, 25, 50, 100. 1\n",
      "What type of file(s) would you like to create? .txt\n",
      "How many gigabytes would you like the file(s) to be? .5\n",
      "All done.\n"
     ]
    }
   ],
   "source": [
    "import os\n",
    "\n",
    "fileQuantity = int(input(\"How many files? Choose 1, 5, 10, 25, 50, 100. \"))\n",
    "fileType = input(\"What type of file(s) would you like to create? \")\n",
    "fileSize = float(input(\"How many gigabytes would you like the file(s) to be? \"))\n",
    "\n",
    "\n",
    "\n",
    "if fileQuantity*fileSize > 100:\n",
    "    print(\"Choose to either generate less or smaller files. \") \n",
    "elif fileQuantity == 1:\n",
    "    for x in range(1):\n",
    "        fileName = str('dummyFile')\n",
    "        f = open('dummyFile'+str(x+1)+str(fileType),'w')\n",
    "        f.seek((fileSize*1073741824)-1)\n",
    "        f.write(\"\\0\")\n",
    "        f.close()\n",
    "    print(\"All done.\")\n",
    "elif fileQuantity == 5:\n",
    "    for x in range(5):\n",
    "        fileName = str('dummyFile')\n",
    "        f = open('dummyFile'+str(x+1)+str(fileType),'w')\n",
    "        f.seek(1073741824-1)\n",
    "        f.write(\"\\0\")\n",
    "        f.close()\n",
    "    print(\"All done.\")\n",
    "elif fileQuantity == 10:\n",
    "    for x in range(10):\n",
    "        fileName = str('dummyFile')\n",
    "        f = open('dummyFile'+str(x+1)+str(fileType),'w')\n",
    "        f.seek(1073741824-1)\n",
    "        f.write(\"\\0\")\n",
    "        f.close()\n",
    "    print(\"All done.\")\n",
    "elif fileQuantity == 25:\n",
    "    for x in range(25):\n",
    "        fileName = str('dummyFile')\n",
    "        f = open('dummyFile'+str(x+1)+str(fileType),'w')\n",
    "        f.seek(1073741824-1)\n",
    "        f.write(\"\\0\")\n",
    "        f.close()\n",
    "    print(\"All done.\")\n",
    "elif fileQuantity == 50:\n",
    "    for x in range(50):\n",
    "        fileName = str('dummyFile')\n",
    "        f = open('dummyFile'+str(x+1)+str(fileType),'w')\n",
    "        f.seek(1073741824-1)\n",
    "        f.write(\"\\0\")\n",
    "        f.close()\n",
    "    print(\"All done.\")\n",
    "elif fileQuantity == 100:\n",
    "    for x in range(100):\n",
    "        fileName = str('dummyFile')\n",
    "        f = open('dummyFile'+str(x+1)+str(fileType),'w')\n",
    "        f.seek(1073741824-1)\n",
    "        f.write(\"\\0\")\n",
    "        f.close()\n",
    "    print(\"All done.\")\n",
    "else:\n",
    "    print(\"Try again, dipshit.\")"
   ]
  },
  {
   "cell_type": "code",
   "execution_count": null,
   "metadata": {},
   "outputs": [],
   "source": []
  },
  {
   "cell_type": "code",
   "execution_count": null,
   "metadata": {},
   "outputs": [],
   "source": []
  }
 ],
 "metadata": {
  "kernelspec": {
   "display_name": "Python 3",
   "language": "python",
   "name": "python3"
  },
  "language_info": {
   "codemirror_mode": {
    "name": "ipython",
    "version": 3
   },
   "file_extension": ".py",
   "mimetype": "text/x-python",
   "name": "python",
   "nbconvert_exporter": "python",
   "pygments_lexer": "ipython3",
   "version": "3.7.1"
  }
 },
 "nbformat": 4,
 "nbformat_minor": 2
}
