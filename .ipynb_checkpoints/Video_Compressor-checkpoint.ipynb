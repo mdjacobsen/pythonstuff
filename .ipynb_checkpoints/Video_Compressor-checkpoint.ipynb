{
 "cells": [
  {
   "cell_type": "markdown",
   "metadata": {},
   "source": [
    "Author: Matthew Jacobsen\n",
    "Date: 5/16/2020\n",
    "Description: Simple Python program to apply compression to a variety of video formats,\n",
    "using the ffmpeg library"
   ]
  },
  {
   "cell_type": "code",
   "execution_count": 30,
   "metadata": {},
   "outputs": [],
   "source": [
    "#We need the FFmpeg library from the ffmpy wrapper\n",
    "from ffmpy import FFmpeg"
   ]
  },
  {
   "cell_type": "code",
   "execution_count": 33,
   "metadata": {},
   "outputs": [],
   "source": [
    "#Ssource file\n",
    "inputFile=\"c:/users/jacob/downloads/leviPuppetShow.mp4\"\n",
    "#Constant rate factor (CRF): adjustable between 0 (high quality) and 51 (low quality)\n",
    "#CRF adjusts the data rate in order modify the quality, and thereby the file size\n",
    "crf=int(45)\n",
    "#Output file\n",
    "outputFile=\"c:/users/jacob/documents/leviPuppetShowSmall.mp4\"\n",
    "#Create a dictionary of optional inputs (trimming, codec mods, etc.)\n",
    "inp={input_name:None}\n",
    "#Create a dictionary of optional outputs (including the codec, which is x265 in this case)\n",
    "outp={output_name:'-vcodec libx265 -crf %d' %crf}\n",
    "#Needed to specify the path, due to PATH issues\n",
    "ff=FFmpeg(executable='C:\\\\ffmpeg-20200515-b18fd2b-win64-static\\\\bin\\\\ffmpeg.exe', inputs=inp, outputs=outp)\n",
    "ff.run()"
   ]
  },
  {
   "cell_type": "code",
   "execution_count": null,
   "metadata": {},
   "outputs": [],
   "source": []
  }
 ],
 "metadata": {
  "kernelspec": {
   "display_name": "Python 3",
   "language": "python",
   "name": "python3"
  },
  "language_info": {
   "codemirror_mode": {
    "name": "ipython",
    "version": 3
   },
   "file_extension": ".py",
   "mimetype": "text/x-python",
   "name": "python",
   "nbconvert_exporter": "python",
   "pygments_lexer": "ipython3",
   "version": "3.7.1"
  }
 },
 "nbformat": 4,
 "nbformat_minor": 2
}
