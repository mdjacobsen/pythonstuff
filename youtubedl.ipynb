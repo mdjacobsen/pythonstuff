{
 "cells": [
  {
   "cell_type": "code",
   "execution_count": 1,
   "metadata": {},
   "outputs": [],
   "source": [
    "import youtube_dl"
   ]
  },
  {
   "cell_type": "code",
   "execution_count": 2,
   "metadata": {},
   "outputs": [],
   "source": [
    "from __future__ import unicode_literals"
   ]
  },
  {
   "cell_type": "code",
   "execution_count": 3,
   "metadata": {},
   "outputs": [
    {
     "name": "stdout",
     "output_type": "stream",
     "text": [
      "[youtube] bxXE0Txdzzo: Downloading webpage\n",
      "[youtube] bxXE0Txdzzo: Downloading video info webpage\n",
      "[download] Destination: Big Tech CENSORED Trump Video About Doctors And COVID, This Is The BIGGEST Censorship Scandal EVER-bxXE0Txdzzo.f137.mp4\n",
      "[download] 100% of 180.21MiB in 00:37                          \n",
      "[download] Destination: Big Tech CENSORED Trump Video About Doctors And COVID, This Is The BIGGEST Censorship Scandal EVER-bxXE0Txdzzo.f140.m4a\n",
      "[download] 100% of 20.02MiB in 00:03                  \n",
      "[ffmpeg] Merging formats into \"Big Tech CENSORED Trump Video About Doctors And COVID, This Is The BIGGEST Censorship Scandal EVER-bxXE0Txdzzo.mp4\"\n",
      "Deleting original file Big Tech CENSORED Trump Video About Doctors And COVID, This Is The BIGGEST Censorship Scandal EVER-bxXE0Txdzzo.f137.mp4 (pass -k to keep)\n",
      "Deleting original file Big Tech CENSORED Trump Video About Doctors And COVID, This Is The BIGGEST Censorship Scandal EVER-bxXE0Txdzzo.f140.m4a (pass -k to keep)\n"
     ]
    }
   ],
   "source": [
    "ydl_opts = {}\n",
    "with youtube_dl.YoutubeDL(ydl_opts) as ydl:\n",
    "    ydl.download(['https://www.youtube.com/watch?v=bxXE0Txdzzo'])"
   ]
  },
  {
   "cell_type": "code",
   "execution_count": null,
   "metadata": {},
   "outputs": [],
   "source": []
  }
 ],
 "metadata": {
  "kernelspec": {
   "display_name": "Python 3",
   "language": "python",
   "name": "python3"
  },
  "language_info": {
   "codemirror_mode": {
    "name": "ipython",
    "version": 3
   },
   "file_extension": ".py",
   "mimetype": "text/x-python",
   "name": "python",
   "nbconvert_exporter": "python",
   "pygments_lexer": "ipython3",
   "version": "3.7.1"
  }
 },
 "nbformat": 4,
 "nbformat_minor": 2
}
