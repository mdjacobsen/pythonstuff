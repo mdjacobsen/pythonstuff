{
 "cells": [
  {
   "cell_type": "code",
   "execution_count": 10,
   "metadata": {},
   "outputs": [],
   "source": [
    "import requests\n",
    "import base64\n",
    "import json"
   ]
  },
  {
   "cell_type": "markdown",
   "metadata": {},
   "source": [
    "# Get Access Payload"
   ]
  },
  {
   "cell_type": "code",
   "execution_count": 11,
   "metadata": {},
   "outputs": [
    {
     "name": "stdout",
     "output_type": "stream",
     "text": [
      "Payload: eyJhY2Nlc3NUb2tlbiI6ICJlMTEwZWUxZDZhMTY0ZjAyOTdmMWZlNGY0OTkyMTc2MCIsICJyZWZyZXNoVG9rZW4iOiAiMDYwZTEyNWFhYzRmNGFlZTliZjE0NjU2NDZkNmY5NjAiLCAiZXhwaXJlc0luIjogMzYwMCwgImV4cGlyZXNBdCI6ICIyMDIwLTEwLTE0VDE1OjM4OjIxLjc1OTk1NS0wNDowMCIsICJiYXNlVXJsIjogImh0dHBzOi8vdGVzdC5oeXBlcnRob3VnaHQuYWZybG1ha2VyaHViLmNvbSIsICJjbGllbnRJZCI6ICIyODA1MTgifQ==\n"
     ]
    }
   ],
   "source": [
    "api_payload = input('Payload: ')"
   ]
  },
  {
   "cell_type": "code",
   "execution_count": 12,
   "metadata": {},
   "outputs": [],
   "source": [
    "decoded_payload = base64.b64decode(api_payload)"
   ]
  },
  {
   "cell_type": "code",
   "execution_count": 13,
   "metadata": {},
   "outputs": [
    {
     "name": "stdout",
     "output_type": "stream",
     "text": [
      "{\n",
      "  \"accessToken\": \"e110ee1d6a164f0297f1fe4f49921760\",\n",
      "  \"refreshToken\": \"060e125aac4f4aee9bf1465646d6f960\",\n",
      "  \"expiresIn\": 3600,\n",
      "  \"expiresAt\": \"2020-10-14T15:38:21.759955-04:00\",\n",
      "  \"baseUrl\": \"https://test.hyperthought.afrlmakerhub.com\",\n",
      "  \"clientId\": \"280518\"\n",
      "}\n"
     ]
    }
   ],
   "source": [
    "print(json.dumps(json.loads(decoded_payload), indent=2))"
   ]
  },
  {
   "cell_type": "code",
   "execution_count": 14,
   "metadata": {},
   "outputs": [],
   "source": [
    "converted_payload = json.loads(decoded_payload)\n",
    "headers = {\n",
    "    'Authorization': f\"Bearer {converted_payload['accessToken']}\"\n",
    "}\n",
    "\n",
    "cookies = {\n",
    "    'dodAccessBanner': 'True'\n",
    "}\n",
    "\n",
    "verify=False"
   ]
  },
  {
   "cell_type": "markdown",
   "metadata": {},
   "source": [
    "# Get Files For A Project"
   ]
  },
  {
   "cell_type": "code",
   "execution_count": 15,
   "metadata": {},
   "outputs": [
    {
     "name": "stderr",
     "output_type": "stream",
     "text": [
      "C:\\Users\\zeroc\\anaconda3\\lib\\site-packages\\urllib3\\connectionpool.py:979: InsecureRequestWarning: Unverified HTTPS request is being made to host 'test.hyperthought.afrlmakerhub.com'. Adding certificate verification is strongly advised. See: https://urllib3.readthedocs.io/en/latest/advanced-usage.html#ssl-warnings\n",
      "  warnings.warn(\n"
     ]
    },
    {
     "name": "stdout",
     "output_type": "stream",
     "text": [
      "[\n",
      "  {\n",
      "    \"content\": {\n",
      "      \"name\": \"A0.txt\",\n",
      "      \"ftype\": \"txt\",\n",
      "      \"path\": \",\",\n",
      "      \"path_string\": \"/A0.txt\",\n",
      "      \"size\": 4047,\n",
      "      \"items\": 0,\n",
      "      \"created_by\": \"fourmajr\",\n",
      "      \"created\": \"2020-10-14T13:51:18.180593-04:00\",\n",
      "      \"modified_by\": \"fourmajr\",\n",
      "      \"modified\": \"2020-10-14T13:51:18.180593-04:00\",\n",
      "      \"backend\": \"default\",\n",
      "      \"file\": \"83c3edfe-2cd7-4e8e-b49f-56d0635a89cd\",\n",
      "      \"pk\": \"ba1bf617-ad77-464a-9b86-9f23ebb63818\"\n",
      "    },\n",
      "    \"metadata\": [\n",
      "      {\n",
      "        \"keyName\": \"test2\",\n",
      "        \"value\": {\n",
      "          \"type\": \"string\",\n",
      "          \"link\": \"hello\"\n",
      "        },\n",
      "        \"annotation\": \"annotation\"\n",
      "      },\n",
      "      {\n",
      "        \"keyName\": \"script\",\n",
      "        \"value\": {\n",
      "          \"type\": \"string\",\n",
      "          \"link\": \"cloud_transcriptomic_analysis.py\"\n",
      "        },\n",
      "        \"annotation\": \"\"\n",
      "      },\n",
      "      {\n",
      "        \"keyName\": \"params\",\n",
      "        \"value\": {\n",
      "          \"type\": \"string\",\n",
      "          \"link\": \"--config /var/www/html/hyperthought/apps/sandbox/data/OTkByOG8eaafzPEi32DSwmDZb1ZtRvcVwqjfaBFgNbUotxXSOYvYgcRwFLMoWdG_/config.json --input-dir /var/www/html/hyperthought/apps/sandbox/data/OTkByOG8eaafzPEi32DSwmDZb1ZtRvcVwqjfaBFgNbUotxXSOYvYgcRwFLMoWdG_\"\n",
      "        },\n",
      "        \"annotation\": \"\"\n",
      "      },\n",
      "      {\n",
      "        \"keyName\": \"status\",\n",
      "        \"value\": {\n",
      "          \"type\": \"string\",\n",
      "          \"link\": \"done\"\n",
      "        },\n",
      "        \"annotation\": \"\"\n",
      "      }\n",
      "    ],\n",
      "    \"triples\": [],\n",
      "    \"permissions\": {\n",
      "      \"groups\": {},\n",
      "      \"projects\": {},\n",
      "      \"users\": {\n",
      "        \"fourmajr\": \"edit\"\n",
      "      }\n",
      "    },\n",
      "    \"restrictions\": {\n",
      "      \"distribution\": \"\",\n",
      "      \"exportControl\": \"\",\n",
      "      \"securityMarking\": \"\"\n",
      "    },\n",
      "    \"headers\": {\n",
      "      \"canonical-uri\": \"/files/filesystementry/ba1bf617-ad77-464a-9b86-9f23ebb63818\",\n",
      "      \"sys-creation-timestamp\": \"2020-10-14T13:51:18.180593-04:00\",\n",
      "      \"sys-last-modified\": \"2020-10-14T13:51:18.180593-04:00\",\n",
      "      \"createdBy\": \"fourmajr\",\n",
      "      \"modifiedBy\": \"fourmajr\",\n",
      "      \"uri\": \"/files/filesystementry/ba1bf617-ad77-464a-9b86-9f23ebb63818/versions/0\",\n",
      "      \"pid\": \"39039eb7-5668-4e41-bc18-84daeaa9ee99\"\n",
      "    }\n",
      "  }\n",
      "]\n"
     ]
    }
   ],
   "source": [
    "site_url = converted_payload['baseUrl']\n",
    "files_api = '/api/files/'\n",
    "files_url = f'{site_url}{files_api}'\n",
    "\n",
    "query_params = {\n",
    "#     'project': 'cc46f5a7-cc91-4efe-8024-1cf86b42c3d6',\n",
    "#     'method': 'project',\n",
    "    'path': ','\n",
    "}\n",
    "\n",
    "r = requests.get(url=files_url, params=query_params, headers=headers, cookies=cookies, verify=verify)\n",
    "\n",
    "\n",
    "if r.status_code > 300:\n",
    "    print('Error')\n",
    "\n",
    "print(json.dumps(r.json(), indent=2))"
   ]
  },
  {
   "cell_type": "markdown",
   "metadata": {},
   "source": [
    "# Get Metadata For A File"
   ]
  },
  {
   "cell_type": "code",
   "execution_count": 16,
   "metadata": {},
   "outputs": [
    {
     "name": "stderr",
     "output_type": "stream",
     "text": [
      "C:\\Users\\zeroc\\anaconda3\\lib\\site-packages\\urllib3\\connectionpool.py:979: InsecureRequestWarning: Unverified HTTPS request is being made to host 'test.hyperthought.afrlmakerhub.com'. Adding certificate verification is strongly advised. See: https://urllib3.readthedocs.io/en/latest/advanced-usage.html#ssl-warnings\n",
      "  warnings.warn(\n"
     ]
    },
    {
     "name": "stdout",
     "output_type": "stream",
     "text": [
      "[\n",
      "  {\n",
      "    \"keyName\": \"test2\",\n",
      "    \"value\": {\n",
      "      \"type\": \"string\",\n",
      "      \"link\": \"hello\"\n",
      "    },\n",
      "    \"annotation\": \"annotation\"\n",
      "  },\n",
      "  {\n",
      "    \"keyName\": \"script\",\n",
      "    \"value\": {\n",
      "      \"type\": \"string\",\n",
      "      \"link\": \"cloud_transcriptomic_analysis.py\"\n",
      "    },\n",
      "    \"annotation\": \"\"\n",
      "  },\n",
      "  {\n",
      "    \"keyName\": \"params\",\n",
      "    \"value\": {\n",
      "      \"type\": \"string\",\n",
      "      \"link\": \"--config /var/www/html/hyperthought/apps/sandbox/data/OTkByOG8eaafzPEi32DSwmDZb1ZtRvcVwqjfaBFgNbUotxXSOYvYgcRwFLMoWdG_/config.json --input-dir /var/www/html/hyperthought/apps/sandbox/data/OTkByOG8eaafzPEi32DSwmDZb1ZtRvcVwqjfaBFgNbUotxXSOYvYgcRwFLMoWdG_\"\n",
      "    },\n",
      "    \"annotation\": \"\"\n",
      "  },\n",
      "  {\n",
      "    \"keyName\": \"status\",\n",
      "    \"value\": {\n",
      "      \"type\": \"string\",\n",
      "      \"link\": \"done\"\n",
      "    },\n",
      "    \"annotation\": \"\"\n",
      "  }\n",
      "]\n"
     ]
    }
   ],
   "source": [
    "site_url = converted_payload['baseUrl']\n",
    "files_api = '/api/files/'\n",
    "files_url = f'{site_url}{files_api}'\n",
    "\n",
    "query_params = {\n",
    "    'id': 'ba1bf617-ad77-464a-9b86-9f23ebb63818'\n",
    "}\n",
    "\n",
    "r = requests.get(url=files_url, params=query_params, headers=headers, cookies=cookies, verify=verify)\n",
    "\n",
    "\n",
    "if r.status_code > 300:\n",
    "    print('Error')\n",
    "\n",
    "print(json.dumps(r.json()['metadata'], indent=2))"
   ]
  },
  {
   "cell_type": "markdown",
   "metadata": {},
   "source": [
    "# Update Metadata For A File"
   ]
  },
  {
   "cell_type": "code",
   "execution_count": 17,
   "metadata": {},
   "outputs": [
    {
     "name": "stderr",
     "output_type": "stream",
     "text": [
      "C:\\Users\\zeroc\\anaconda3\\lib\\site-packages\\urllib3\\connectionpool.py:979: InsecureRequestWarning: Unverified HTTPS request is being made to host 'test.hyperthought.afrlmakerhub.com'. Adding certificate verification is strongly advised. See: https://urllib3.readthedocs.io/en/latest/advanced-usage.html#ssl-warnings\n",
      "  warnings.warn(\n"
     ]
    },
    {
     "name": "stdout",
     "output_type": "stream",
     "text": [
      "{\n",
      "  \"message\": \"Document updated\"\n",
      "}\n"
     ]
    }
   ],
   "source": [
    "site_url = converted_payload['baseUrl']\n",
    "files_api = '/api/files/'\n",
    "files_url = f'{site_url}{files_api}'\n",
    "\n",
    "data = {\n",
    "    'file_id': 'ba1bf617-ad77-464a-9b86-9f23ebb63818',\n",
    "    'updates': {\n",
    "        'metadata': [{\n",
    "            \"keyName\": \"test2\",\n",
    "            \"value\": {\n",
    "              \"type\": \"string\",\n",
    "              \"link\": \"hello\"\n",
    "            },\n",
    "            \"annotation\": \"annotation\"\n",
    "          },\n",
    "            {\n",
    "            \"keyName\": \"test3\",\n",
    "            \"value\": {\n",
    "              \"type\": \"string\",\n",
    "              \"link\": \"hello\"\n",
    "            },\n",
    "            \"annotation\": \"annotation\"\n",
    "          },\n",
    "          {\n",
    "            \"keyName\": \"script\",\n",
    "            \"value\": {\n",
    "              \"type\": \"string\",\n",
    "              \"link\": \"cloud_transcriptomic_analysis.py\"\n",
    "            },\n",
    "            \"annotation\": \"\"\n",
    "          },\n",
    "          {\n",
    "            \"keyName\": \"params\",\n",
    "            \"value\": {\n",
    "              \"type\": \"string\",\n",
    "              \"link\": \"--config /var/www/html/hyperthought/apps/sandbox/data/OTkByOG8eaafzPEi32DSwmDZb1ZtRvcVwqjfaBFgNbUotxXSOYvYgcRwFLMoWdG_/config.json --input-dir /var/www/html/hyperthought/apps/sandbox/data/OTkByOG8eaafzPEi32DSwmDZb1ZtRvcVwqjfaBFgNbUotxXSOYvYgcRwFLMoWdG_\"\n",
    "            },\n",
    "            \"annotation\": \"\"\n",
    "          },\n",
    "          {\n",
    "            \"keyName\": \"status\",\n",
    "            \"value\": {\n",
    "              \"type\": \"string\",\n",
    "              \"link\": \"done\"\n",
    "            },\n",
    "            \"annotation\": \"\"\n",
    "          }\n",
    "        ]\n",
    "    }\n",
    "}\n",
    "\n",
    "r = requests.patch(url=files_url, json=data, headers=headers, cookies=cookies, verify=verify)\n",
    "\n",
    "\n",
    "if r.status_code > 300:\n",
    "    print('Error')\n",
    "\n",
    "print(json.dumps(r.json(), indent=2))"
   ]
  },
  {
   "cell_type": "code",
   "execution_count": null,
   "metadata": {},
   "outputs": [],
   "source": []
  }
 ],
 "metadata": {
  "kernelspec": {
   "display_name": "Python 3",
   "language": "python",
   "name": "python3"
  },
  "language_info": {
   "codemirror_mode": {
    "name": "ipython",
    "version": 3
   },
   "file_extension": ".py",
   "mimetype": "text/x-python",
   "name": "python",
   "nbconvert_exporter": "python",
   "pygments_lexer": "ipython3",
   "version": "3.8.3"
  }
 },
 "nbformat": 4,
 "nbformat_minor": 2
}
